{
  "nbformat": 4,
  "nbformat_minor": 0,
  "metadata": {
    "colab": {
      "name": "summer_project_nns.ipynb",
      "provenance": [],
      "collapsed_sections": [
        "94JuY_dloaRj",
        "87XwbTd7w1OB"
      ],
      "authorship_tag": "ABX9TyO+/bU7hq4MfYkDtWGaWenO",
      "include_colab_link": true
    },
    "kernelspec": {
      "name": "python3",
      "display_name": "Python 3"
    },
    "accelerator": "TPU"
  },
  "cells": [
    {
      "cell_type": "markdown",
      "metadata": {
        "id": "view-in-github",
        "colab_type": "text"
      },
      "source": [
        "<a href=\"https://colab.research.google.com/github/TheodorIvanov/ML_Group_J/blob/master/summer_project_nns.ipynb\" target=\"_parent\"><img src=\"https://colab.research.google.com/assets/colab-badge.svg\" alt=\"Open In Colab\"/></a>"
      ]
    },
    {
      "cell_type": "markdown",
      "metadata": {
        "id": "j227QeM-oVCq",
        "colab_type": "text"
      },
      "source": [
        "## Loading Data"
      ]
    },
    {
      "cell_type": "code",
      "metadata": {
        "id": "zT8tg5dIoNb2",
        "colab_type": "code",
        "colab": {
          "base_uri": "https://localhost:8080/",
          "height": 68
        },
        "outputId": "d85c7c55-23ed-4351-cf91-9dc5fd8721f7"
      },
      "source": [
        "from google.colab import files # insert json token\n",
        "\n",
        "import json # alternatively can use files.upload()\n",
        "dict = {\"username\":\"tedbg41\",\"key\":\"e8b997c78473e26b4bec20ca33c9ca66\"}\n",
        "with open('kaggle.json', 'w') as fp:\n",
        "    json.dump(dict, fp)\n",
        "\n",
        "!mkdir -p ~/.kaggle\n",
        "!cp kaggle.json ~/.kaggle/kaggle.json\n",
        "!chmod 600 /root/.kaggle/kaggle.json\n",
        "\n",
        "# Downloading the Zip database from Kaggle\n",
        "!kaggle datasets download -d mlg-ulb/creditcardfraud\n",
        "\n",
        "# Unzipping the file\n",
        "import zipfile\n",
        "with zipfile.ZipFile(\"creditcardfraud.zip\",\"r\") as zip_ref:\n",
        "    zip_ref.extractall()"
      ],
      "execution_count": 2,
      "outputs": [
        {
          "output_type": "stream",
          "text": [
            "Downloading creditcardfraud.zip to /content\n",
            " 74% 49.0M/66.0M [00:01<00:00, 23.0MB/s]\n",
            "100% 66.0M/66.0M [00:01<00:00, 42.7MB/s]\n"
          ],
          "name": "stdout"
        }
      ]
    },
    {
      "cell_type": "markdown",
      "metadata": {
        "id": "94JuY_dloaRj",
        "colab_type": "text"
      },
      "source": [
        "## Libraries"
      ]
    },
    {
      "cell_type": "code",
      "metadata": {
        "id": "qU1TrqpjocYE",
        "colab_type": "code",
        "colab": {
          "base_uri": "https://localhost:8080/",
          "height": 0
        },
        "outputId": "200cf541-4950-4325-f2fa-3b57c48397d0"
      },
      "source": [
        "import pandas as pd\n",
        "import numpy as np\n",
        "import matplotlib.pyplot as plt\n",
        "from matplotlib import gridspec\n",
        "%matplotlib inline\n",
        "import seaborn as sns\n",
        "sns.set_palette(\"Set2\")\n",
        "sns.set_style(\"darkgrid\")\n",
        "\n",
        "from sklearn.preprocessing import StandardScaler\n",
        "from sklearn.model_selection import train_test_split\n",
        "from sklearn.metrics import confusion_matrix, classification_report\n",
        "\n",
        "import tensorflow as tf\n",
        "import keras\n",
        "from keras.layers import *\n",
        "from keras import losses\n",
        "from keras import optimizers\n",
        "from keras import regularizers\n",
        "from keras.models import Model, load_model\n",
        "from keras.callbacks import ModelCheckpoint, TensorBoard, EarlyStopping\n",
        "\n",
        "seed = 66\n",
        "\n",
        "# Supressing  Warnings\n",
        "\n",
        "import warnings\n",
        "def fxn():\n",
        "    warnings.warn(\"deprecated\", DeprecationWarning)\n",
        "\n",
        "# Functions\n",
        "\n",
        "def LossGraph(history):\n",
        "  plt.figure(figsize = (12,9))\n",
        "  plt.plot(history.history['loss'])\n",
        "  plt.plot(history.history['val_loss'])\n",
        "  plt.title('Model loss')\n",
        "  plt.ylabel('Loss')\n",
        "  plt.xlabel('Epoch')\n",
        "  plt.legend(['train', 'test'], loc='upper right')\n",
        "  plt.show();\n",
        "\n",
        "def ReconstructionScatter(cleared, frauds, threshold): \n",
        "  plt.figure(figsize = (12,9))\n",
        "  plt.scatter(cleared.index, cleared.values, marker = 'o', label = 'Cleared')\n",
        "  plt.scatter(frauds.index, frauds.values, marker = 'x', label = 'Fraud')\n",
        "  plt.hlines(threshold, plt.xlim()[0], plt.xlim()[1], colors = 'r', label = 'Threshold')\n",
        "  plt.legend(loc = 'best')\n",
        "  plt.title('Reconstructed Transactions')\n",
        "  plt.xlabel('Transaction ID')\n",
        "  plt.ylabel('Root Reconstruction Error')\n",
        "  plt.show();\n",
        "\n",
        "def ModelPerformance(X_test, y_test, prediction):\n",
        "  print('\\n Confusion Matrix \\n =================================== \\n')\n",
        "  sns.heatmap(confusion_matrix(y_test,prediction), annot = True, cmap='RdBu', fmt='g', cbar=False)\n",
        "  plt.title('Confusion Matrix')\n",
        "  plt.ylabel('True Label')\n",
        "  plt.xlabel('Predicted Label')\n",
        "  plt.show();\n",
        "  print('\\n Classification Report \\n =================================== \\n', classification_report(y_test,prediction))\n"
      ],
      "execution_count": 3,
      "outputs": [
        {
          "output_type": "stream",
          "text": [
            "/usr/local/lib/python3.6/dist-packages/statsmodels/tools/_testing.py:19: FutureWarning: pandas.util.testing is deprecated. Use the functions in the public API at pandas.testing instead.\n",
            "  import pandas.util.testing as tm\n",
            "Using TensorFlow backend.\n"
          ],
          "name": "stderr"
        }
      ]
    },
    {
      "cell_type": "markdown",
      "metadata": {
        "id": "wGm5iU-woig5",
        "colab_type": "text"
      },
      "source": [
        "## Sampling"
      ]
    },
    {
      "cell_type": "code",
      "metadata": {
        "id": "Aaqdgfovonni",
        "colab_type": "code",
        "colab": {}
      },
      "source": [
        "# Scaling the data\n",
        "\n",
        "df = pd.read_csv('creditcard.csv')\n",
        "scaled = pd.DataFrame(StandardScaler().fit_transform(df.drop(['Time','Class'], axis=1)),\n",
        "                      columns=df.drop(['Time','Class'],axis=1).columns) # scaling all columns apart from Time and Class\n",
        "scaled['Class'] = df['Class']\n",
        "\n",
        "# Splitting the data\n",
        "\n",
        "train, test = train_test_split(scaled, test_size = 0.2, random_state = seed)\n",
        "\n",
        "X_train = (train[train.Class == 0]).drop(['Class'], axis = 1) # using only the cleared transactions for training\n",
        "X_test = test.drop(['Class'], axis=1)\n",
        "y_test = test['Class']\n",
        "\n",
        "input_dim = X_train.shape[1] # input dimensions for the neural networks"
      ],
      "execution_count": 48,
      "outputs": []
    },
    {
      "cell_type": "markdown",
      "metadata": {
        "id": "87XwbTd7w1OB",
        "colab_type": "text"
      },
      "source": [
        "## Model 1: Simple Autoencoder"
      ]
    },
    {
      "cell_type": "code",
      "metadata": {
        "id": "dKeJB8P6w2rW",
        "colab_type": "code",
        "colab": {}
      },
      "source": [
        "# latent = 9 # dimension of the latent vector\n",
        "# batch_size = 128\n",
        "# epochs = 100\n",
        "\n",
        "# # Defining the Model\n",
        "\n",
        "# inputs = Input(shape=(input_dim,), name = 'input_encoder')\n",
        "\n",
        "# encoder = Dense(18, activation='relu')(inputs)\n",
        "# encoder = Dense(12, activation='relu')(encoder)\n",
        "\n",
        "# bottleneck  = Dense(latent, activation='relu')(encoder)\n",
        "\n",
        "# decoder = Dense(12, activation='relu')(bottleneck)\n",
        "# decoder = Dense(18, activation='relu')(decoder)\n",
        "# decoder = Dense(input_dim, activation='relu')(decoder)\n",
        "\n",
        "# autoencoder_1 = Model(inputs,decoder)\n",
        "# # autoencoder_1.summary()\n",
        "# # keras.utils.plot_model(autoencoder_1, show_shapes=True)\n",
        "\n",
        "# # Compiling the model\n",
        "\n",
        "# autoencoder_1.compile(optimizer=keras.optimizers.Adam(),\n",
        "#                       loss = losses.mean_squared_error,\n",
        "#                       metrics = ['mae','accuracy'])\n",
        "\n",
        "# # Early Stopper\n",
        "\n",
        "# stopper = EarlyStopping(monitor = 'val_loss',\n",
        "#                         min_delta = 0.005,\n",
        "#                         verbose = 1,\n",
        "#                         patience = 5,\n",
        "#                         restore_best_weights = True)\n",
        "\n",
        "# # Training\n",
        "\n",
        "# history = autoencoder_1.fit(X_train, X_train,\n",
        "#                             batch_size = batch_size,\n",
        "#                             epochs = epochs,\n",
        "#                             verbose = 2,\n",
        "#                             validation_data = (X_test, X_test),\n",
        "#                             callbacks = [stopper])\n",
        "\n",
        "# LossGraph(history)\n",
        "\n",
        "# # Predicting\n",
        "\n",
        "# predictions = autoencoder_1.predict(X_test)\n",
        "\n",
        "# # Reconstruction error (RMSE)\n",
        "\n",
        "# rmse = np.sqrt(np.mean(np.power(X_test - predictions, 2), axis = 1))\n",
        "\n",
        "# # Reconstructed data\n",
        "\n",
        "# reconstructed = pd.DataFrame({'rec_error': rmse,'true_class': y_test})\n",
        "\n",
        "# frauds = reconstructed[reconstructed.true_class == 1].drop('true_class', axis = 1)\n",
        "# cleared = reconstructed[reconstructed.true_class == 0].drop('true_class', axis = 1)\n",
        "\n",
        "# # Predicting the class using the threshtold\n",
        "\n",
        "# threshold = 5\n",
        "\n",
        "# reconstructed['pred_class'] = 0\n",
        "# reconstructed.pred_class[reconstructed.rec_error > threshold] = 1\n",
        "\n",
        "# # Model Performance\n",
        "\n",
        "# ReconstructionScatter(cleared, frauds, threshold = threshold)\n",
        "# ModelPerformance(X_test, y_test, reconstructed.pred_class)"
      ],
      "execution_count": 5,
      "outputs": []
    },
    {
      "cell_type": "markdown",
      "metadata": {
        "id": "qgFO9UHe43zk",
        "colab_type": "text"
      },
      "source": [
        "## Feature Selection"
      ]
    },
    {
      "cell_type": "code",
      "metadata": {
        "id": "4VX4mkO_47OU",
        "colab_type": "code",
        "colab": {}
      },
      "source": [
        "# Feature Selection\n",
        "\n",
        "#scaled = scaled.iloc[:, [2, 3, 8, 9, 10, 11, 13, 15, 16, 17, -1]]\n",
        "scaled = scaled[['V17','V14','V12','V10', 'V16', 'V11', 'Class']]\n",
        "\n",
        "# Splitting the data\n",
        "\n",
        "train, test = train_test_split(scaled, test_size = 0.2, random_state = seed)\n",
        "\n",
        "X_train = (train[train.Class == 0]).drop(['Class'], axis = 1) # using only the cleared transactions for training\n",
        "X_test = test.drop(['Class'], axis=1)\n",
        "y_test = test['Class']\n",
        "\n",
        "input_dim = X_train.shape[1] # input dimensions for the neural networks"
      ],
      "execution_count": 53,
      "outputs": []
    },
    {
      "cell_type": "markdown",
      "metadata": {
        "id": "GJEyHIr6aw60",
        "colab_type": "text"
      },
      "source": [
        "## Model 2: Feature Selection Optimised"
      ]
    },
    {
      "cell_type": "code",
      "metadata": {
        "id": "SJXllM7T4yT0",
        "colab_type": "code",
        "colab": {
          "base_uri": "https://localhost:8080/",
          "height": 1000
        },
        "outputId": "2aeee414-e24e-41f9-9e23-11005de0cbcd"
      },
      "source": [
        "latent = 50 # dimension of the latent vector 5 \n",
        "batch_size = 128\n",
        "epochs = 100\n",
        "\n",
        "# Defining the Model\n",
        "\n",
        "inputs = Input(shape=(input_dim,), name = 'input_encoder')\n",
        "\n",
        "encoder = Dense(15, activation='relu')(inputs) # 6\n",
        "encoder = Dense(20, activation='relu')(encoder) # 9\n",
        "\n",
        "bottleneck  = Dense(latent, activation='relu')(encoder)\n",
        "\n",
        "decoder = Dense(20, activation='relu')(bottleneck)\n",
        "decoder = Dense(15, activation='relu')(decoder)\n",
        "decoder = Dense(input_dim, activation='relu')(decoder)\n",
        "\n",
        "autoencoder_2 = Model(inputs,decoder)\n",
        "# autoencoder_2.summary()\n",
        "# keras.utils.plot_model(autoencoder_2, show_shapes=True)\n",
        "\n",
        "# Compiling the model\n",
        "\n",
        "autoencoder_2.compile(optimizer=keras.optimizers.Adam(),\n",
        "                      loss = losses.mean_squared_error, # mse\n",
        "                      metrics = ['mae','accuracy'])\n",
        "\n",
        "# Early Stopper\n",
        "\n",
        "stopper = EarlyStopping(monitor = 'val_loss',\n",
        "                        min_delta = 0.005,\n",
        "                        verbose = 1,\n",
        "                        patience = 5,\n",
        "                        restore_best_weights = True)\n",
        "\n",
        "# Training\n",
        "\n",
        "history = autoencoder_2.fit(X_train, X_train,\n",
        "                            batch_size = batch_size,\n",
        "                            epochs = epochs,\n",
        "                            verbose = 2,\n",
        "                            validation_data = (X_test, X_test),\n",
        "                            callbacks = [stopper])\n",
        "\n",
        "LossGraph(history)\n",
        "\n",
        "# Predicting\n",
        "\n",
        "predictions = autoencoder_2.predict(X_test)\n",
        "\n",
        "# Reconstruction error (RMSE)\n",
        "\n",
        "rmse = np.sqrt(np.mean(np.power(X_test - predictions, 2), axis = 1))\n",
        "\n",
        "# Reconstructed data\n",
        "\n",
        "reconstructed = pd.DataFrame({'rec_error': rmse,'true_class': y_test})\n",
        "\n",
        "frauds = reconstructed[reconstructed.true_class == 1].drop('true_class', axis = 1)\n",
        "cleared = reconstructed[reconstructed.true_class == 0].drop('true_class', axis = 1)\n",
        "\n",
        "# Predicting the class using the threshtold\n",
        "\n",
        "threshold = 3\n",
        "\n",
        "reconstructed['pred_class'] = 0\n",
        "reconstructed.pred_class[reconstructed.rec_error > threshold] = 1\n",
        "\n",
        "# Model Performance\n",
        "\n",
        "ReconstructionScatter(cleared, frauds, threshold = threshold)\n",
        "ModelPerformance(X_test, y_test, reconstructed.pred_class)"
      ],
      "execution_count": 54,
      "outputs": [
        {
          "output_type": "stream",
          "text": [
            "Train on 227448 samples, validate on 56962 samples\n",
            "Epoch 1/100\n",
            " - 3s - loss: 0.4685 - mae: 0.4077 - accuracy: 0.8840 - val_loss: 0.5423 - val_mae: 0.3836 - val_accuracy: 0.9499\n",
            "Epoch 2/100\n",
            " - 3s - loss: 0.4399 - mae: 0.3639 - accuracy: 0.9642 - val_loss: 0.5388 - val_mae: 0.3675 - val_accuracy: 0.9716\n",
            "Epoch 3/100\n",
            " - 3s - loss: 0.4389 - mae: 0.3552 - accuracy: 0.9781 - val_loss: 0.5380 - val_mae: 0.3606 - val_accuracy: 0.9836\n",
            "Epoch 4/100\n",
            " - 2s - loss: 0.4386 - mae: 0.3514 - accuracy: 0.9842 - val_loss: 0.5378 - val_mae: 0.3591 - val_accuracy: 0.9860\n",
            "Epoch 5/100\n",
            " - 3s - loss: 0.4385 - mae: 0.3495 - accuracy: 0.9874 - val_loss: 0.5377 - val_mae: 0.3561 - val_accuracy: 0.9922\n",
            "Epoch 6/100\n",
            " - 3s - loss: 0.4385 - mae: 0.3487 - accuracy: 0.9884 - val_loss: 0.5376 - val_mae: 0.3575 - val_accuracy: 0.9910\n",
            "Restoring model weights from the end of the best epoch\n",
            "Epoch 00006: early stopping\n"
          ],
          "name": "stdout"
        },
        {
          "output_type": "display_data",
          "data": {
            "image/png": "[encoded data removed]",
            "text/plain": [
              "<Figure size 864x648 with 1 Axes>"
            ]
          },
          "metadata": {
            "tags": []
          }
        },
        {
          "output_type": "stream",
          "text": [
            "/usr/local/lib/python3.6/dist-packages/ipykernel_launcher.py:67: SettingWithCopyWarning: \n",
            "A value is trying to be set on a copy of a slice from a DataFrame\n",
            "\n",
            "See the caveats in the documentation: https://pandas.pydata.org/pandas-docs/stable/user_guide/indexing.html#returning-a-view-versus-a-copy\n"
          ],
          "name": "stderr"
        },
        {
          "output_type": "display_data",
          "data": {
            "image/png": "[encoded data removed]",
            "text/plain": [
              "<Figure size 864x648 with 1 Axes>"
            ]
          },
          "metadata": {
            "tags": []
          }
        },
        {
          "output_type": "stream",
          "text": [
            "\n",
            " Confusion Matrix \n",
            " =================================== \n",
            "\n"
          ],
          "name": "stdout"
        },
        {
          "output_type": "display_data",
          "data": {
            "image/png": "[encoded data removed]",
            "text/plain": [
              "<Figure size 432x288 with 1 Axes>"
            ]
          },
          "metadata": {
            "tags": []
          }
        },
        {
          "output_type": "stream",
          "text": [
            "\n",
            " Classification Report \n",
            " =================================== \n",
            "               precision    recall  f1-score   support\n",
            "\n",
            "           0       1.00      1.00      1.00     56867\n",
            "           1       0.68      0.81      0.74        95\n",
            "\n",
            "    accuracy                           1.00     56962\n",
            "   macro avg       0.84      0.90      0.87     56962\n",
            "weighted avg       1.00      1.00      1.00     56962\n",
            "\n"
          ],
          "name": "stdout"
        }
      ]
    },
    {
      "cell_type": "code",
      "metadata": {
        "id": "_fCWeP3ovM9R",
        "colab_type": "code",
        "colab": {
          "base_uri": "https://localhost:8080/",
          "height": 791
        },
        "outputId": "afaf68b6-03df-4e24-8f09-7e01ee9557c3"
      },
      "source": [
        "### FEATURE SELECTION\n",
        "\n",
        "from sklearn.datasets import make_classification\n",
        "from sklearn.ensemble import ExtraTreesClassifier\n",
        "\n",
        "forest = ExtraTreesClassifier(n_estimators=250,\n",
        "                              random_state=seed)\n",
        "\n",
        "y = scaled['Class']\n",
        "X = scaled.drop(['Class'],axis=1)\n",
        "\n",
        "\n",
        "forest.fit(X, y)\n",
        "importances = forest.feature_importances_\n",
        "std = np.std([tree.feature_importances_ for tree in forest.estimators_],\n",
        "             axis=0)\n",
        "indices = np.argsort(importances)[::-1]\n",
        "\n",
        "# Print the feature ranking\n",
        "print(\"Feature ranking:\")\n",
        "\n",
        "for f in range(X.shape[1]):\n",
        "    print(\"%d. feature %d (%f)\" % (f + 1, indices[f], importances[indices[f]]))\n",
        "\n",
        "# Plot the impurity-based feature importances of the forest\n",
        "plt.figure()\n",
        "plt.title(\"Feature importances\")\n",
        "plt.bar(range(X.shape[1]), importances[indices],\n",
        "        color=\"r\", yerr=std[indices], align=\"center\")\n",
        "plt.xticks(range(X.shape[1]), indices)\n",
        "plt.xlim([-1, X.shape[1]])\n",
        "plt.show()"
      ],
      "execution_count": 27,
      "outputs": [
        {
          "output_type": "stream",
          "text": [
            "Feature ranking:\n",
            "1. feature 16 (0.147953)\n",
            "2. feature 13 (0.118162)\n",
            "3. feature 11 (0.111965)\n",
            "4. feature 9 (0.076765)\n",
            "5. feature 15 (0.069594)\n",
            "6. feature 10 (0.061561)\n",
            "7. feature 3 (0.040644)\n",
            "8. feature 17 (0.039947)\n",
            "9. feature 8 (0.035875)\n",
            "10. feature 2 (0.032191)\n",
            "11. feature 6 (0.024215)\n",
            "12. feature 20 (0.017753)\n",
            "13. feature 1 (0.015449)\n",
            "14. feature 25 (0.015307)\n",
            "15. feature 18 (0.014948)\n",
            "16. feature 7 (0.014498)\n",
            "17. feature 19 (0.014083)\n",
            "18. feature 4 (0.013868)\n",
            "19. feature 5 (0.013786)\n",
            "20. feature 0 (0.013704)\n",
            "21. feature 26 (0.013256)\n",
            "22. feature 21 (0.013142)\n",
            "23. feature 14 (0.012961)\n",
            "24. feature 23 (0.012510)\n",
            "25. feature 28 (0.012026)\n",
            "26. feature 27 (0.011855)\n",
            "27. feature 12 (0.011688)\n",
            "28. feature 24 (0.010881)\n",
            "29. feature 22 (0.009412)\n"
          ],
          "name": "stdout"
        },
        {
          "output_type": "display_data",
          "data": {
            "image/png": "[encoded data removed]",
            "text/plain": [
              "<Figure size 432x288 with 1 Axes>"
            ]
          },
          "metadata": {
            "tags": []
          }
        }
      ]
    },
    {
      "cell_type": "code",
      "metadata": {
        "id": "36aaafHeAyaB",
        "colab_type": "code",
        "colab": {}
      },
      "source": [
        "# import time\n",
        "# for i in range(60):\n",
        "#   time.sleep(60)\n",
        "#   print(i)"
      ],
      "execution_count": 8,
      "outputs": []
    }
  ]
}