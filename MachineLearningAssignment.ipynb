{
  "nbformat": 4,
  "nbformat_minor": 0,
  "metadata": {
    "colab": {
      "name": "MachineLearningAssignment.ipynb",
      "provenance": [],
      "collapsed_sections": [],
      "toc_visible": true,
      "authorship_tag": "ABX9TyOJBGFJwCMImyDC0cFmrIIR",
      "include_colab_link": true
    },
    "kernelspec": {
      "name": "python3",
      "display_name": "Python 3"
    }
  },
  "cells": [
    {
      "cell_type": "markdown",
      "metadata": {
        "id": "view-in-github",
        "colab_type": "text"
      },
      "source": [
        "<a href=\"https://colab.research.google.com/github/TheodorIvanov/ML_Group_J/blob/master/MachineLearningAssignment.ipynb\" target=\"_parent\"><img src=\"https://colab.research.google.com/assets/colab-badge.svg\" alt=\"Open In Colab\"/></a>"
      ]
    },
    {
      "cell_type": "markdown",
      "metadata": {
        "id": "EqOTObtwH3Mt",
        "colab_type": "text"
      },
      "source": [
        "## Connecting to the GitHub Repository"
      ]
    },
    {
      "cell_type": "code",
      "metadata": {
        "id": "uMivYgvqAqpb",
        "colab_type": "code",
        "colab": {
          "base_uri": "https://localhost:8080/",
          "height": 34
        },
        "outputId": "1bd8bcbb-b8aa-4428-a35c-41cb7a22ee42"
      },
      "source": [
        "! git clone https://github.com/TheodorIvanov/ML_Group_J.git"
      ],
      "execution_count": 1,
      "outputs": [
        {
          "output_type": "stream",
          "text": [
            "fatal: destination path 'ML_Group_J' already exists and is not an empty directory.\n"
          ],
          "name": "stdout"
        }
      ]
    },
    {
      "cell_type": "markdown",
      "metadata": {
        "id": "oPMyK6VRHgcj",
        "colab_type": "text"
      },
      "source": [
        "## Libraries Used"
      ]
    },
    {
      "cell_type": "code",
      "metadata": {
        "id": "CcaJBdvsDyML",
        "colab_type": "code",
        "colab": {}
      },
      "source": [
        "import pandas as pd\n",
        "import numpy as np\n",
        "import glob\n",
        "import matplotlib.pyplot as plt\n"
      ],
      "execution_count": 0,
      "outputs": []
    },
    {
      "cell_type": "markdown",
      "metadata": {
        "id": "BBl3iEDzHYaj",
        "colab_type": "text"
      },
      "source": [
        "## Importing the Data\n"
      ]
    },
    {
      "cell_type": "code",
      "metadata": {
        "id": "3ry6v55CERw9",
        "colab_type": "code",
        "colab": {
          "base_uri": "https://localhost:8080/",
          "height": 697
        },
        "outputId": "b38c96bc-bbff-4ac3-8924-09cf600f9a54"
      },
      "source": [
        "wd = '/content/ML_Group_J/data/'\n",
        "df = pd.DataFrame()\n",
        "for file_name in glob.glob(wd+'*.csv'):           # reading through all the files in the wd and concatinating them as one df frame\n",
        "    x = pd.read_csv(file_name, low_memory=False)\n",
        "    df = pd.concat([df,x],axis=0)\n",
        "\n",
        "print(df.head())\n",
        "print(df.describe())\n",
        "print(df.info())"
      ],
      "execution_count": 3,
      "outputs": [
        {
          "output_type": "stream",
          "text": [
            "   Number                                              title  ... spch pop\n",
            "0       1                       Bohemian Rhapsody - 2011 Mix  ...    5  84\n",
            "1       2                                    Highway to Hell  ...   13  83\n",
            "2       3                       Don't Stop Me Now - 2011 Mix  ...   17  82\n",
            "3       4  Rocket Man (I Think It's Going To Be A Long Lo...  ...    3  81\n",
            "4       5                      We Will Rock You - Remastered  ...   12  79\n",
            "\n",
            "[5 rows x 15 columns]\n",
            "           Number         year         bpm  ...       acous        spch         pop\n",
            "count  667.000000   667.000000  667.000000  ...  667.000000  667.000000  667.000000\n",
            "mean    48.718141  1994.967016  119.121439  ...   29.917541    6.179910   63.349325\n",
            "std     28.414748    17.771374   25.030827  ...   28.865081    6.191199   13.725845\n",
            "min      1.000000  1945.000000   62.000000  ...    0.000000    2.000000   26.000000\n",
            "25%     24.000000  1980.000000  101.500000  ...    6.000000    3.000000   56.000000\n",
            "50%     48.000000  1998.000000  120.000000  ...   19.000000    4.000000   66.000000\n",
            "75%     72.000000  2010.000000  134.000000  ...   52.000000    6.000000   73.500000\n",
            "max    105.000000  2019.000000  199.000000  ...  100.000000   47.000000   94.000000\n",
            "\n",
            "[8 rows x 12 columns]\n",
            "<class 'pandas.core.frame.DataFrame'>\n",
            "Int64Index: 667 entries, 0 to 87\n",
            "Data columns (total 15 columns):\n",
            "Number       667 non-null int64\n",
            "title        667 non-null object\n",
            "artist       667 non-null object\n",
            "top genre    651 non-null object\n",
            "year         667 non-null int64\n",
            "bpm          667 non-null int64\n",
            "nrgy         667 non-null int64\n",
            "dnce         667 non-null int64\n",
            "dB           667 non-null int64\n",
            "live         667 non-null int64\n",
            "val          667 non-null int64\n",
            "dur          667 non-null int64\n",
            "acous        667 non-null int64\n",
            "spch         667 non-null int64\n",
            "pop          667 non-null int64\n",
            "dtypes: int64(12), object(3)\n",
            "memory usage: 83.4+ KB\n",
            "None\n"
          ],
          "name": "stdout"
        }
      ]
    },
    {
      "cell_type": "markdown",
      "metadata": {
        "id": "AUc5DiE1IiXc",
        "colab_type": "text"
      },
      "source": [
        "## Descriptives\n"
      ]
    },
    {
      "cell_type": "code",
      "metadata": {
        "id": "mnq7RSZ6IhBJ",
        "colab_type": "code",
        "colab": {
          "base_uri": "https://localhost:8080/",
          "height": 431
        },
        "outputId": "2bcfad9d-f08a-4cbb-d46e-70c22e424f61"
      },
      "source": [
        "\n",
        "df_columns = (df.columns)\n",
        "\n",
        "plt.figure(figsize=(15, 7))\n",
        "x = df['year']\n",
        "plt.subplot(121)\n",
        "plt.hist(x)\n",
        "plt.subplot(122)\n",
        "plt.hist(df['dnce'])\n",
        "plt.show()"
      ],
      "execution_count": 4,
      "outputs": [
        {
          "output_type": "display_data",
          "data": {
            "image/png": "[encoded data removed]",
            "text/plain": [
              "<Figure size 1080x504 with 2 Axes>"
            ]
          },
          "metadata": {
            "tags": []
          }
        }
      ]
    },
    {
      "cell_type": "code",
      "metadata": {
        "id": "uqo4rKqSKkrc",
        "colab_type": "code",
        "colab": {}
      },
      "source": [
        "\n",
        "plt.subplot?"
      ],
      "execution_count": 0,
      "outputs": []
    }
  ]
}